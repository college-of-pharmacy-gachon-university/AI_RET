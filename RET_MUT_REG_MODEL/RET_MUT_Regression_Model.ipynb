{
 "cells": [
  {
   "cell_type": "markdown",
   "id": "7f78d836",
   "metadata": {},
   "source": [
    "## Import Library"
   ]
  },
  {
   "cell_type": "code",
   "execution_count": 1,
   "id": "bd92ffbc",
   "metadata": {},
   "outputs": [],
   "source": [
    "import os\n",
    "import numpy as np\n",
    "import random as python_random\n",
    "SEED=56789\n",
    "np.random.seed(SEED)\n",
    "python_random.seed(SEED)\n",
    "os.environ['PYTHONHASHSEED']=str(SEED)\n",
    "\n",
    "import warnings\n",
    "warnings.filterwarnings(\"ignore\")\n",
    "warnings.simplefilter(action='ignore', category=FutureWarning)\n",
    "\n",
    "import pandas as pd\n",
    "import pickle\n",
    "from rdkit import Chem, DataStructs\n",
    "from rdkit.Chem import AllChem, MACCSkeys\n",
    "from rdkit.Avalon import pyAvalonTools\n",
    "\n",
    "from sklearn.ensemble import RandomForestRegressor\n",
    "from sklearn.metrics import r2_score, mean_squared_error, mean_absolute_error\n",
    "from scipy.stats import pearsonr\n",
    "from math import sqrt\n",
    "\n",
    "import matplotlib.pyplot as plt\n",
    "\n",
    "%matplotlib inline"
   ]
  },
  {
   "cell_type": "markdown",
   "id": "f4f2ecc5",
   "metadata": {},
   "source": [
    "### Versions of all libraries used"
   ]
  },
  {
   "cell_type": "code",
   "execution_count": null,
   "id": "aa5fedae",
   "metadata": {},
   "outputs": [
    {
     "name": "stdout",
     "output_type": "stream",
     "text": [
      "Python version: 3.7.7 (default, Mar 26 2020, 15:48:22) \n",
      "[GCC 7.3.0]\n",
      "==================================================\n",
      "NumPy version: 1.18.1\n",
      "Pandas version: 1.0.3\n",
      "Matplotlib version: 3.1.3\n",
      "Scikit-learn version: 0.21.3\n",
      "SciPy version: 1.4.1\n",
      "RDKit version: 2020.03.3\n",
      "==================================================\n",
      "Operating System: posix\n",
      "System: Linux 5.15.0-139-generic\n",
      "Machine: x86_64\n",
      "Random seed used: 56789\n",
      "==================================================\n"
     ]
    }
   ],
   "source": [
    "import sys\n",
    "print(\"Python version:\", sys.version)\n",
    "print(\"=\"*50)\n",
    "\n",
    "# Core libraries\n",
    "print(f\"NumPy version: {np.__version__}\")\n",
    "print(f\"Pandas version: {pd.__version__}\")\n",
    "print(f\"Matplotlib version: {plt.matplotlib.__version__}\")\n",
    "\n",
    "# Machine learning libraries\n",
    "import sklearn\n",
    "print(f\"Scikit-learn version: {sklearn.__version__}\")\n",
    "import scipy\n",
    "print(f\"SciPy version: {scipy.__version__}\")\n",
    "\n",
    "# Cheminformatics\n",
    "try:\n",
    "    import rdkit\n",
    "    print(f\"RDKit version: {rdkit.__version__}\")\n",
    "except AttributeError:\n",
    "    # Some RDKit versions don't have __version__\n",
    "    from rdkit import rdBase\n",
    "    print(f\"RDKit version: {rdBase.rdkitVersion}\")\n",
    "\n",
    "# Environment information\n",
    "print(\"=\"*50)\n",
    "print(f\"Operating System: {os.name}\")\n",
    "if hasattr(os, 'uname'):\n",
    "    uname = os.uname()\n",
    "    print(f\"System: {uname.sysname} {uname.release}\")\n",
    "    print(f\"Machine: {uname.machine}\")\n",
    "\n",
    "print(f\"Random seed used: {SEED}\")\n",
    "print(\"=\"*50)"
   ]
  },
  {
   "cell_type": "markdown",
   "id": "85bfa28f",
   "metadata": {},
   "source": [
    "## Read the train and test sets"
   ]
  },
  {
   "cell_type": "code",
   "execution_count": null,
   "id": "079e0231",
   "metadata": {},
   "outputs": [
    {
     "name": "stdout",
     "output_type": "stream",
     "text": [
      "Loaded train set: 696 samples\n",
      "Loaded test set: 174 samples\n",
      "Train target range: 5.000 - 8.046\n",
      "Test target range: 5.000 - 7.836\n"
     ]
    }
   ],
   "source": [
    "train_df_loaded = pd.read_csv('RET_Mutant_train_set.csv')\n",
    "test_df_loaded = pd.read_csv('RET_Mutant_test_set.csv')\n",
    "\n",
    "# Extract SMILES and targets from the loaded dataframes\n",
    "X_train = train_df_loaded['RDKIT_SMILES']\n",
    "Y_train = train_df_loaded['pIC50']\n",
    "X_test = test_df_loaded['RDKIT_SMILES']\n",
    "Y_test = test_df_loaded['pIC50']\n",
    "\n",
    "print(f\"Loaded train set: {len(X_train)} samples\")\n",
    "print(f\"Loaded test set: {len(X_test)} samples\")\n",
    "print(f\"Train target range: {Y_train.min():.3f} - {Y_train.max():.3f}\")\n",
    "print(f\"Test target range: {Y_test.min():.3f} - {Y_test.max():.3f}\")"
   ]
  },
  {
   "cell_type": "markdown",
   "id": "1e40d2f8",
   "metadata": {},
   "source": [
    "## Features based on ECFP6"
   ]
  },
  {
   "cell_type": "code",
   "execution_count": 4,
   "id": "ecdf2b54",
   "metadata": {},
   "outputs": [],
   "source": [
    "def smiles_to_mols(query_smiles):\n",
    "    mols = [Chem.MolFromSmiles(smile) for smile in query_smiles]\n",
    "    valid = [0 if mol is None else 1 for mol in mols]\n",
    "    valid_idxs = [idx for idx, boolean in enumerate(valid) if boolean == 1]\n",
    "    valid_mols = [mols[idx] for idx in valid_idxs]\n",
    "    return valid_mols, valid_idxs\n",
    "\n",
    "class Descriptors:\n",
    "\n",
    "    def __init__(self, data):\n",
    "        self._data = data\n",
    "\n",
    "    def ECFP(self, radius, nBits):\n",
    "        fingerprints = []\n",
    "        mols, idx = smiles_to_mols(self._data)\n",
    "        fp_bits = [AllChem.GetMorganFingerprintAsBitVect(mol, radius, nBits) for mol in mols]\n",
    "        for fp in fp_bits:\n",
    "            fp_np = np.zeros((1, nBits), dtype=np.int32)\n",
    "            DataStructs.ConvertToNumpyArray(fp, fp_np)\n",
    "            fingerprints.append(fp_np)\n",
    "        return fingerprints, idx\n",
    "\n",
    "    def ECFP_counts(self, radius, useFeatures, useCounts=True):\n",
    "        mols, valid_idx = smiles_to_mols(self._data)\n",
    "        fps = [AllChem.GetMorganFingerprint(mol, radius, useCounts=useCounts, useFeatures=useFeatures) for mol in mols]\n",
    "        size = 2048\n",
    "        nfp = np.zeros((len(fps), size), np.int32)\n",
    "        for i, fp in enumerate(fps):\n",
    "            for idx, v in fp.GetNonzeroElements().items():\n",
    "                nidx = idx % size\n",
    "                nfp[i, nidx] += int(v)\n",
    "        return nfp, valid_idx\n",
    "\n",
    "    def Avalon(self, nBits):\n",
    "        mols, valid_idx = smiles_to_mols(self._data)\n",
    "        fingerprints = []\n",
    "        fps = [pyAvalonTools.GetAvalonFP(mol, nBits=nBits) for mol in mols]\n",
    "        for fp in fps:\n",
    "            fp_np = np.zeros((1, nBits), dtype=np.int32)\n",
    "            DataStructs.ConvertToNumpyArray(fp, fp_np)\n",
    "            fingerprints.append(fp_np)\n",
    "        return fingerprints, valid_idx\n",
    "\n",
    "    def MACCS_keys(self):\n",
    "        mols, valid_idx = smiles_to_mols(self._data)\n",
    "        fingerprints = []\n",
    "        fps = [MACCSkeys.GenMACCSKeys(mol) for mol in mols]\n",
    "        for fp in fps:\n",
    "            fp_np = np.zeros((1, ), dtype=np.int32)\n",
    "            DataStructs.ConvertToNumpyArray(fp, fp_np)\n",
    "            fingerprints.append(fp_np)\n",
    "        return fingerprints, valid_idx\n",
    "\n",
    "def get_ECFP6_counts(inp):\n",
    "    if not isinstance(inp, list):\n",
    "        inp = list(inp)\n",
    "    desc = Descriptors(inp)\n",
    "    fps, _ = desc.ECFP_counts(radius=3, useFeatures=True, useCounts=True)\n",
    "    return fps"
   ]
  },
  {
   "cell_type": "code",
   "execution_count": 5,
   "id": "6d24fc3b",
   "metadata": {},
   "outputs": [],
   "source": [
    "train_fps = get_ECFP6_counts(X_train)\n",
    "test_fps = get_ECFP6_counts(X_test)"
   ]
  },
  {
   "cell_type": "markdown",
   "id": "6cc700fa",
   "metadata": {},
   "source": [
    "## Training Model"
   ]
  },
  {
   "cell_type": "code",
   "execution_count": 6,
   "id": "6fc4b6dd",
   "metadata": {},
   "outputs": [],
   "source": [
    "models_RF_train = {\"RF\": RandomForestRegressor(bootstrap=True, criterion='mse', max_depth=28,\n",
    "                      max_features='auto', max_leaf_nodes=None,\n",
    "                      min_impurity_decrease=0.0, min_impurity_split=None,\n",
    "                      min_samples_leaf=1, min_samples_split=2,\n",
    "                      min_weight_fraction_leaf=0.0, n_estimators=270,\n",
    "                      n_jobs=None, oob_score=False, random_state=1234,\n",
    "                      verbose=0, warm_start=False)}"
   ]
  },
  {
   "cell_type": "markdown",
   "id": "a6234d1e",
   "metadata": {},
   "source": [
    "## Cross-validation strategy for model evaluation"
   ]
  },
  {
   "cell_type": "code",
   "execution_count": null,
   "id": "0945049f",
   "metadata": {},
   "outputs": [
    {
     "name": "stdout",
     "output_type": "stream",
     "text": [
      "Cross-validation setup:\n",
      "- Number of folds: 5\n",
      "- CV random state: 42\n",
      "- Shuffle enabled: True\n",
      "- Scoring metrics: R², RMSE, MAE, Pearson correlation\n"
     ]
    }
   ],
   "source": [
    "from sklearn.model_selection import cross_val_score, KFold\n",
    "from sklearn.metrics import make_scorer\n",
    "\n",
    "# Define cross-validation parameters\n",
    "cv_folds = 5  # Number of folds for cross-validation\n",
    "cv_random_state = 42  # For reproducible CV splits\n",
    "\n",
    "# Create KFold cross-validator\n",
    "kfold = KFold(n_splits=cv_folds, shuffle=True, random_state=cv_random_state)\n",
    "\n",
    "# Define custom scoring functions for cross-validation\n",
    "def rmse_scorer(y_true, y_pred):\n",
    "    return sqrt(mean_squared_error(y_true, y_pred))\n",
    "\n",
    "def mae_scorer(y_true, y_pred):\n",
    "    return mean_absolute_error(y_true, y_pred)\n",
    "\n",
    "def pearson_scorer(y_true, y_pred):\n",
    "    corr, _ = pearsonr(y_true, y_pred)\n",
    "    return corr\n",
    "\n",
    "# Create scikit-learn scorers\n",
    "rmse_score = make_scorer(rmse_scorer, greater_is_better=False)\n",
    "mae_score = make_scorer(mae_scorer, greater_is_better=False)\n",
    "pearson_score = make_scorer(pearson_scorer)\n",
    "\n",
    "print(f\"Cross-validation setup:\")\n",
    "print(f\"- Number of folds: {cv_folds}\")\n",
    "print(f\"- CV random state: {cv_random_state}\")\n",
    "print(f\"- Shuffle enabled: True\")\n",
    "print(f\"- Scoring metrics: R², RMSE, MAE, Pearson correlation\")"
   ]
  },
  {
   "cell_type": "markdown",
   "id": "053daf6a",
   "metadata": {},
   "source": [
    "## Perform cross-validation on training data"
   ]
  },
  {
   "cell_type": "code",
   "execution_count": null,
   "id": "f5d32903",
   "metadata": {},
   "outputs": [
    {
     "name": "stdout",
     "output_type": "stream",
     "text": [
      "\n",
      "======================================================================\n",
      "           CROSS-VALIDATION RESULTS ON TRAINING DATA\n",
      "======================================================================\n",
      "\n",
      "Performing 5-fold cross-validation...\n",
      "\n",
      "📊 R² Scores:\n",
      "   Individual folds: ['0.4242', '0.4802', '0.5488', '0.4934', '0.4875']\n",
      "   Mean ± Std: 0.4868 ± 0.0396\n",
      "\n",
      "📊 R² Scores:\n",
      "   Individual folds: ['0.4242', '0.4802', '0.5488', '0.4934', '0.4875']\n",
      "   Mean ± Std: 0.4868 ± 0.0396\n",
      "\n",
      "📏 RMSE Scores:\n",
      "   Individual folds: ['0.4658', '0.4739', '0.4226', '0.4529', '0.4493']\n",
      "   Mean ± Std: 0.4529 ± 0.0175\n",
      "\n",
      "📏 RMSE Scores:\n",
      "   Individual folds: ['0.4658', '0.4739', '0.4226', '0.4529', '0.4493']\n",
      "   Mean ± Std: 0.4529 ± 0.0175\n",
      "\n",
      "📐 MAE Scores:\n",
      "   Individual folds: ['0.3408', '0.3775', '0.3427', '0.3444', '0.3210']\n",
      "   Mean ± Std: 0.3453 ± 0.0182\n",
      "\n",
      "📐 MAE Scores:\n",
      "   Individual folds: ['0.3408', '0.3775', '0.3427', '0.3444', '0.3210']\n",
      "   Mean ± Std: 0.3453 ± 0.0182\n",
      "\n",
      "🔗 Pearson Correlation:\n",
      "   Individual folds: ['0.6628', '0.6968', '0.7412', '0.7031', '0.7186']\n",
      "   Mean ± Std: 0.7045 ± 0.0258\n",
      "\n",
      "======================================================================\n",
      "Cross-validation completed successfully!\n",
      "\n",
      "🔗 Pearson Correlation:\n",
      "   Individual folds: ['0.6628', '0.6968', '0.7412', '0.7031', '0.7186']\n",
      "   Mean ± Std: 0.7045 ± 0.0258\n",
      "\n",
      "======================================================================\n",
      "Cross-validation completed successfully!\n"
     ]
    }
   ],
   "source": [
    "# Clear any existing CV results\n",
    "for var in ['cv_r2_scores', 'cv_rmse_scores', 'cv_mae_scores', 'cv_pearson_scores']:\n",
    "    if var in globals():\n",
    "        del globals()[var]\n",
    "\n",
    "print(\"\\n\" + \"=\"*70)\n",
    "print(\"           CROSS-VALIDATION RESULTS ON TRAINING DATA\")\n",
    "print(\"=\"*70)\n",
    "\n",
    "rf_model = models_RF_train[\"RF\"]\n",
    "\n",
    "print(\"\\nPerforming 5-fold cross-validation...\")\n",
    "\n",
    "# R² score\n",
    "cv_r2_scores = cross_val_score(rf_model, train_fps, Y_train, cv=kfold, scoring='r2')\n",
    "print(f\"\\n📊 R² Scores:\\n   Individual folds: {[f'{s:.4f}' for s in cv_r2_scores]}\")\n",
    "print(f\"   Mean ± Std: {cv_r2_scores.mean():.4f} ± {cv_r2_scores.std():.4f}\")\n",
    "\n",
    "# RMSE\n",
    "cv_rmse_scores = -cross_val_score(rf_model, train_fps, Y_train, cv=kfold, scoring=rmse_score)\n",
    "print(f\"\\n📏 RMSE Scores:\\n   Individual folds: {[f'{s:.4f}' for s in cv_rmse_scores]}\")\n",
    "print(f\"   Mean ± Std: {cv_rmse_scores.mean():.4f} ± {cv_rmse_scores.std():.4f}\")\n",
    "\n",
    "# MAE\n",
    "cv_mae_scores = -cross_val_score(rf_model, train_fps, Y_train, cv=kfold, scoring=mae_score)\n",
    "print(f\"\\n📐 MAE Scores:\\n   Individual folds: {[f'{s:.4f}' for s in cv_mae_scores]}\")\n",
    "print(f\"   Mean ± Std: {cv_mae_scores.mean():.4f} ± {cv_mae_scores.std():.4f}\")\n",
    "\n",
    "# Pearson\n",
    "cv_pearson_scores = cross_val_score(rf_model, train_fps, Y_train, cv=kfold, scoring=pearson_score)\n",
    "print(f\"\\n🔗 Pearson Correlation:\\n   Individual folds: {[f'{s:.4f}' for s in cv_pearson_scores]}\")\n",
    "print(f\"   Mean ± Std: {cv_pearson_scores.mean():.4f} ± {cv_pearson_scores.std():.4f}\")\n",
    "\n",
    "print(\"\\n\" + \"=\"*70)\n",
    "print(\"Cross-validation completed successfully!\")\n"
   ]
  },
  {
   "cell_type": "code",
   "execution_count": 9,
   "id": "2ec26d8f",
   "metadata": {},
   "outputs": [
    {
     "name": "stdout",
     "output_type": "stream",
     "text": [
      "\n",
      "📋 CROSS-VALIDATION SUMMARY:\n",
      "              Metric    Mean     Std     Min     Max\n",
      "                  R²  0.4868  0.0396  0.4242  0.5488\n",
      "                RMSE  0.4529  0.0175  0.4226  0.4739\n",
      "                 MAE  0.3453  0.0182  0.3210  0.3775\n",
      " Pearson Correlation  0.7045  0.0258  0.6628  0.7412\n",
      "\n",
      "🔍 MODEL STABILITY ASSESSMENT:\n",
      "   R² coefficient of variation: 8.14% ✓ Stable\n",
      "   RMSE coefficient of variation: 3.87% ✓ Stable\n",
      "\n",
      "💡 INTERPRETATION:\n",
      "   • R² = 0.4868: Model explains ~48.7% of variance\n",
      "   • RMSE = 0.4529: Average prediction error\n",
      "   • MAE = 0.3453: Mean absolute error\n",
      "   • Pearson r = 0.7045: Strong linear correlation\n"
     ]
    }
   ],
   "source": [
    "# Create a comprehensive summary of cross-validation results\n",
    "cv_results_summary = {\n",
    "    'Metric': ['R²', 'RMSE', 'MAE', 'Pearson Correlation'],\n",
    "    'Mean': [cv_r2_scores.mean(), cv_rmse_scores.mean(), cv_mae_scores.mean(), cv_pearson_scores.mean()],\n",
    "    'Std': [cv_r2_scores.std(), cv_rmse_scores.std(), cv_mae_scores.std(), cv_pearson_scores.std()],\n",
    "    'Min': [cv_r2_scores.min(), cv_rmse_scores.min(), cv_mae_scores.min(), cv_pearson_scores.min()],\n",
    "    'Max': [cv_r2_scores.max(), cv_rmse_scores.max(), cv_mae_scores.max(), cv_pearson_scores.max()]\n",
    "}\n",
    "\n",
    "cv_summary_df = pd.DataFrame(cv_results_summary)\n",
    "print(\"\\n📋 CROSS-VALIDATION SUMMARY:\")\n",
    "print(cv_summary_df.round(4).to_string(index=False))\n",
    "\n",
    "# Store CV results for later comparison\n",
    "cv_results = {\n",
    "    'cv_r2_mean': cv_r2_scores.mean(),\n",
    "    'cv_r2_std': cv_r2_scores.std(),\n",
    "    'cv_rmse_mean': cv_rmse_scores.mean(),\n",
    "    'cv_rmse_std': cv_rmse_scores.std(),\n",
    "    'cv_mae_mean': cv_mae_scores.mean(),\n",
    "    'cv_mae_std': cv_mae_scores.std(),\n",
    "    'cv_pearson_mean': cv_pearson_scores.mean(),\n",
    "    'cv_pearson_std': cv_pearson_scores.std()\n",
    "}\n",
    "\n",
    "print(f\"\\n🔍 MODEL STABILITY ASSESSMENT:\")\n",
    "r2_cv = (cv_r2_scores.std()/cv_r2_scores.mean()*100)\n",
    "rmse_cv = (cv_rmse_scores.std()/cv_rmse_scores.mean()*100)\n",
    "print(f\"   R² coefficient of variation: {r2_cv:.2f}% {'✓ Stable' if r2_cv < 10 else '⚠ Moderate' if r2_cv < 20 else '✗ Unstable'}\")\n",
    "print(f\"   RMSE coefficient of variation: {rmse_cv:.2f}% {'✓ Stable' if rmse_cv < 5 else '⚠ Moderate' if rmse_cv < 10 else '✗ Unstable'}\")\n",
    "\n",
    "print(f\"\\n💡 INTERPRETATION:\")\n",
    "print(f\"   • R² = {cv_r2_scores.mean():.4f}: Model explains ~{cv_r2_scores.mean()*100:.1f}% of variance\")\n",
    "print(f\"   • RMSE = {cv_rmse_scores.mean():.4f}: Average prediction error\")\n",
    "print(f\"   • MAE = {cv_mae_scores.mean():.4f}: Mean absolute error\")\n",
    "print(f\"   • Pearson r = {cv_pearson_scores.mean():.4f}: {'Strong' if cv_pearson_scores.mean() > 0.7 else 'Moderate' if cv_pearson_scores.mean() > 0.5 else 'Weak'} linear correlation\")"
   ]
  },
  {
   "cell_type": "markdown",
   "id": "d535915f",
   "metadata": {},
   "source": [
    "## Train Model Performance"
   ]
  },
  {
   "cell_type": "code",
   "execution_count": 10,
   "id": "8953bbf5",
   "metadata": {},
   "outputs": [
    {
     "data": {
      "text/plain": [
       "RF_train_r2                        0.92933\n",
       "RF_rmse_train                     0.168868\n",
       "RF_mae_train                      0.128149\n",
       "RF_pcc_train     (0.9732395208969024, 0.0)\n",
       "dtype: object"
      ]
     },
     "execution_count": 10,
     "metadata": {},
     "output_type": "execute_result"
    }
   ],
   "source": [
    "# Calculate the Training statistics\n",
    "scores = {}\n",
    "for m in models_RF_train:\n",
    "    models_RF_train[m].fit(train_fps, Y_train)\n",
    "    scores[m + \"_train_r2\"] = models_RF_train[m].score(train_fps, Y_train)\n",
    "    Y_pred_train_rf = models_RF_train[m].predict(train_fps)\n",
    "    scores[m + \"_rmse_train\"] = sqrt(mean_squared_error(Y_train, Y_pred_train_rf))\n",
    "    scores[m + \"_mae_train\"] = mean_absolute_error(Y_train, Y_pred_train_rf)\n",
    "    scores[m + \"_pcc_train\"] = pearsonr(Y_train, Y_pred_train_rf)\n",
    "scores_RF_train = pd.Series(scores).T\n",
    "scores_RF_train"
   ]
  },
  {
   "cell_type": "markdown",
   "id": "9ff84664",
   "metadata": {},
   "source": [
    "## Performance on Test Set"
   ]
  },
  {
   "cell_type": "code",
   "execution_count": 11,
   "id": "af6d843d",
   "metadata": {},
   "outputs": [
    {
     "data": {
      "text/plain": [
       "RF_test_r2                                         0.584431\n",
       "RF_rmse_test                                       0.397593\n",
       "RF_mae_test                                        0.293664\n",
       "RF_pcc_test     (0.7691952700354965, 2.776915926013935e-35)\n",
       "dtype: object"
      ]
     },
     "execution_count": 11,
     "metadata": {},
     "output_type": "execute_result"
    }
   ],
   "source": [
    "# Calculate statistics for test set based on RF model\n",
    "scores = {}\n",
    "for m in models_RF_train:\n",
    "    Y_pred_test_rf = models_RF_train[m].predict(test_fps)\n",
    "    scores[m + \"_test_r2\"] = r2_score(Y_test, Y_pred_test_rf)\n",
    "    scores[m + \"_rmse_test\"] = sqrt(mean_squared_error(Y_test, Y_pred_test_rf))\n",
    "    scores[m + \"_mae_test\"] = mean_absolute_error(Y_test, Y_pred_test_rf)\n",
    "    scores[m + \"_pcc_test\"] = pearsonr(Y_test, Y_pred_test_rf)\n",
    "scores_RF_test = pd.Series(scores).T\n",
    "scores_RF_test"
   ]
  },
  {
   "cell_type": "markdown",
   "id": "05c195fc",
   "metadata": {},
   "source": [
    "## Scatter plot between train and test set prediction"
   ]
  },
  {
   "cell_type": "code",
   "execution_count": 12,
   "id": "19006b4d",
   "metadata": {},
   "outputs": [
    {
     "data": {
      "image/png": "[encoded data removed]",
      "text/plain": [
       "<Figure size 432x288 with 1 Axes>"
      ]
     },
     "metadata": {
      "needs_background": "light"
     },
     "output_type": "display_data"
    }
   ],
   "source": [
    "# Scatter plot for Random Forest Model\n",
    "plt.scatter(Y_train, Y_pred_train_rf)\n",
    "plt.scatter(Y_test, Y_pred_test_rf)\n",
    "plt.show()"
   ]
  },
  {
   "cell_type": "markdown",
   "id": "489795a4",
   "metadata": {},
   "source": [
    "## Compare Cross-Validation results with Train-Test Split results"
   ]
  },
  {
   "cell_type": "code",
   "execution_count": null,
   "id": "ac0fd000",
   "metadata": {},
   "outputs": [
    {
     "name": "stdout",
     "output_type": "stream",
     "text": [
      "\n",
      "======================================================================\n",
      "COMPARISON: CROSS-VALIDATION vs TRAIN-TEST SPLIT\n",
      "======================================================================\n",
      "\n",
      "Performance Comparison:\n",
      "                Metric  Train Set  Test Set  CV Mean  CV Std\n",
      "0                   R²     0.9293    0.5844   0.4868  0.0396\n",
      "1                 RMSE     0.1689    0.3976   0.4529  0.0175\n",
      "2                  MAE     0.1281    0.2937   0.3453  0.0182\n",
      "3  Pearson Correlation     0.9732    0.7692   0.7045  0.0258\n",
      "\n",
      "\n",
      "Analysis:\n",
      "- Cross-validation R² (0.4868) vs Test R² (0.5844)\n",
      "  ⚠ Significant difference between CV and test performance\n",
      "- CV standard deviation indicates model stability:\n",
      "  R² std: 0.0396 (lower is better)\n",
      "  RMSE std: 0.0175 (lower is better)\n",
      "  ✓ Model shows good stability across folds\n"
     ]
    }
   ],
   "source": [
    "print(\"\\n\" + \"=\"*70)\n",
    "print(\"COMPARISON: CROSS-VALIDATION vs TRAIN-TEST SPLIT\")\n",
    "print(\"=\"*70)\n",
    "\n",
    "# Extract train-test results from previous calculations\n",
    "train_r2 = scores_RF_train['RF_train_r2']\n",
    "test_r2 = scores_RF_test['RF_test_r2']\n",
    "train_rmse = scores_RF_train['RF_rmse_train']\n",
    "test_rmse = scores_RF_test['RF_rmse_test']\n",
    "train_mae = scores_RF_train['RF_mae_train']\n",
    "test_mae = scores_RF_test['RF_mae_test']\n",
    "train_pcc = scores_RF_train['RF_pcc_train'][0]  # Extract correlation value\n",
    "test_pcc = scores_RF_test['RF_pcc_test'][0]    # Extract correlation value\n",
    "\n",
    "# Create comparison DataFrame\n",
    "comparison_data = {\n",
    "    'Metric': ['R²', 'RMSE', 'MAE', 'Pearson Correlation'],\n",
    "    'Train Set': [train_r2, train_rmse, train_mae, train_pcc],\n",
    "    'Test Set': [test_r2, test_rmse, test_mae, test_pcc],\n",
    "    'CV Mean': [cv_results['cv_r2_mean'], cv_results['cv_rmse_mean'], \n",
    "                cv_results['cv_mae_mean'], cv_results['cv_pearson_mean']],\n",
    "    'CV Std': [cv_results['cv_r2_std'], cv_results['cv_rmse_std'], \n",
    "               cv_results['cv_mae_std'], cv_results['cv_pearson_std']]\n",
    "}\n",
    "\n",
    "comparison_df = pd.DataFrame(comparison_data)\n",
    "print(\"\\nPerformance Comparison:\")\n",
    "print(comparison_df.round(4))\n",
    "\n",
    "# Analysis of results\n",
    "print(f\"\\n\\nAnalysis:\")\n",
    "print(f\"- Cross-validation R² ({cv_results['cv_r2_mean']:.4f}) vs Test R² ({test_r2:.4f})\")\n",
    "if abs(cv_results['cv_r2_mean'] - test_r2) < 0.05:\n",
    "    print(\"  ✓ Good agreement between CV and test performance\")\n",
    "else:\n",
    "    print(\"  ⚠ Significant difference between CV and test performance\")\n",
    "    \n",
    "print(f\"- CV standard deviation indicates model stability:\")\n",
    "print(f\"  R² std: {cv_results['cv_r2_std']:.4f} (lower is better)\")\n",
    "print(f\"  RMSE std: {cv_results['cv_rmse_std']:.4f} (lower is better)\")\n",
    "\n",
    "if cv_results['cv_r2_std'] < 0.05:\n",
    "    print(\"  ✓ Model shows good stability across folds\")\n",
    "else:\n",
    "    print(\"  ⚠ Model shows some instability across folds\")"
   ]
  },
  {
   "cell_type": "markdown",
   "id": "63b78c0b",
   "metadata": {},
   "source": [
    "## Visualize cross-validation results"
   ]
  },
  {
   "cell_type": "code",
   "execution_count": null,
   "id": "9a78327a",
   "metadata": {},
   "outputs": [
    {
     "data": {
      "image/png": "[encoded data removed]",
      "text/plain": [
       "<Figure size 864x720 with 4 Axes>"
      ]
     },
     "metadata": {
      "needs_background": "light"
     },
     "output_type": "display_data"
    },
    {
     "name": "stdout",
     "output_type": "stream",
     "text": [
      "\n",
      "Interpretation:\n",
      "- Red dashed lines show cross-validation means\n",
      "- Green dashed lines show test set performance\n",
      "- Consistent bar heights indicate stable model performance\n",
      "- Close alignment between CV mean and test performance suggests good generalization\n"
     ]
    }
   ],
   "source": [
    "import matplotlib.pyplot as plt\n",
    "import numpy as np\n",
    "\n",
    "fig, axes = plt.subplots(2, 2, figsize=(12, 10))\n",
    "# fig.suptitle('Cross-Validation Results Analysis', fontsize=16, fontweight='bold')\n",
    "\n",
    "# Plot 1: R² scores across folds\n",
    "axes[0, 0].bar(range(1, cv_folds+1), cv_r2_scores, alpha=0.7, color='skyblue', edgecolor='navy')\n",
    "axes[0, 0].axhline(y=cv_r2_scores.mean(), color='red', linestyle='--', label=f'Mean: {cv_r2_scores.mean():.4f}')\n",
    "axes[0, 0].axhline(y=test_r2, color='green', linestyle='--', label=f'Test: {test_r2:.4f}')\n",
    "axes[0, 0].set_xlabel('Fold')\n",
    "axes[0, 0].set_ylabel('R² Score')\n",
    "axes[0, 0].set_title('R² Scores Across CV Folds')\n",
    "axes[0, 0].legend()\n",
    "axes[0, 0].grid(True, alpha=0.3)\n",
    "\n",
    "# Plot 2: RMSE scores across folds\n",
    "axes[0, 1].bar(range(1, cv_folds+1), cv_rmse_scores, alpha=0.7, color='lightcoral', edgecolor='darkred')\n",
    "axes[0, 1].axhline(y=cv_rmse_scores.mean(), color='red', linestyle='--', label=f'Mean: {cv_rmse_scores.mean():.4f}')\n",
    "axes[0, 1].axhline(y=test_rmse, color='green', linestyle='--', label=f'Test: {test_rmse:.4f}')\n",
    "axes[0, 1].set_xlabel('Fold')\n",
    "axes[0, 1].set_ylabel('RMSE')\n",
    "axes[0, 1].set_title('RMSE Across CV Folds')\n",
    "axes[0, 1].legend()\n",
    "axes[0, 1].grid(True, alpha=0.3)\n",
    "\n",
    "# Plot 3: MAE scores across folds\n",
    "axes[1, 0].bar(range(1, cv_folds+1), cv_mae_scores, alpha=0.7, color='lightgreen', edgecolor='darkgreen')\n",
    "axes[1, 0].axhline(y=cv_mae_scores.mean(), color='red', linestyle='--', label=f'Mean: {cv_mae_scores.mean():.4f}')\n",
    "axes[1, 0].axhline(y=test_mae, color='green', linestyle='--', label=f'Test: {test_mae:.4f}')\n",
    "axes[1, 0].set_xlabel('Fold')\n",
    "axes[1, 0].set_ylabel('MAE')\n",
    "axes[1, 0].set_title('MAE Across CV Folds')\n",
    "axes[1, 0].legend()\n",
    "axes[1, 0].grid(True, alpha=0.3)\n",
    "\n",
    "# Plot 4: Pearson correlation across folds\n",
    "axes[1, 1].bar(range(1, cv_folds+1), cv_pearson_scores, alpha=0.7, color='plum', edgecolor='purple')\n",
    "axes[1, 1].axhline(y=cv_pearson_scores.mean(), color='red', linestyle='--', label=f'Mean: {cv_pearson_scores.mean():.4f}')\n",
    "axes[1, 1].axhline(y=test_pcc, color='green', linestyle='--', label=f'Test: {test_pcc:.4f}')\n",
    "axes[1, 1].set_xlabel('Fold')\n",
    "axes[1, 1].set_ylabel('Pearson Correlation')\n",
    "axes[1, 1].set_title('Pearson Correlation Across CV Folds')\n",
    "axes[1, 1].legend()\n",
    "axes[1, 1].grid(True, alpha=0.3)\n",
    "\n",
    "plt.tight_layout()\n",
    "plt.show()\n",
    "\n",
    "print(\"\\nInterpretation:\")\n",
    "print(\"- Red dashed lines show cross-validation means\")\n",
    "print(\"- Green dashed lines show test set performance\")\n",
    "print(\"- Consistent bar heights indicate stable model performance\")\n",
    "print(\"- Close alignment between CV mean and test performance suggests good generalization\")"
   ]
  },
  {
   "cell_type": "markdown",
   "id": "499c5928",
   "metadata": {},
   "source": [
    "## Calculate statistics for overall set based on RF model"
   ]
  },
  {
   "cell_type": "code",
   "execution_count": null,
   "id": "25bbf93d",
   "metadata": {},
   "outputs": [
    {
     "name": "stdout",
     "output_type": "stream",
     "text": [
      "0.9320626723223974\n"
     ]
    }
   ],
   "source": [
    "models_RF_final = RandomForestRegressor(bootstrap=True, criterion='mse', max_depth=28,\n",
    "                      max_features='auto', max_leaf_nodes=None,\n",
    "                      min_impurity_decrease=0.0, min_impurity_split=None,\n",
    "                      min_samples_leaf=1, min_samples_split=2,\n",
    "                      min_weight_fraction_leaf=0.0, n_estimators=270,\n",
    "                      n_jobs=None, oob_score=False, random_state=1234,\n",
    "                      verbose=0, warm_start=False)\n",
    "\n",
    "# fit to all data points\n",
    "complete_fps = np.concatenate((train_fps, test_fps), axis=0)\n",
    "complete_y = pd.concat((Y_train, Y_test))\n",
    "models_RF_final.fit(complete_fps, complete_y)\n",
    "y_pred_final = models_RF_final.predict(complete_fps)\n",
    "models_RF_final_r2 = r2_score(complete_y, y_pred_final)\n",
    "print(models_RF_final_r2)"
   ]
  },
  {
   "cell_type": "markdown",
   "id": "97d782ec",
   "metadata": {},
   "source": [
    "#@ save the final model"
   ]
  },
  {
   "cell_type": "code",
   "execution_count": null,
   "id": "6458b514",
   "metadata": {},
   "outputs": [],
   "source": [
    "with open((\"RET_MUTANT_final_model_Hyper.pkl\"), \"wb\") as f:\n",
    "    pickle.dump(models_RF_final, f)"
   ]
  },
  {
   "cell_type": "markdown",
   "id": "86e4eee4",
   "metadata": {},
   "source": [
    "## Detailed Analysis of Cross-Validation Results"
   ]
  },
  {
   "cell_type": "code",
   "execution_count": null,
   "id": "8d9c4a4e",
   "metadata": {},
   "outputs": [
    {
     "name": "stdout",
     "output_type": "stream",
     "text": [
      "\n",
      "======================================================================\n",
      "           DETAILED CROSS-VALIDATION ANALYSIS\n",
      "======================================================================\n",
      "\n",
      "🎯 PERFORMANCE ANALYSIS:\n",
      "   Based on your cross-validation results:\n",
      "\n",
      "   📊 R² Score (0.4868):\n",
      "      • Quality: Moderate\n",
      "      • Variance explained: 48.7%\n",
      "      • Range across folds: 0.4242 - 0.5488\n",
      "\n",
      "   📏 RMSE (0.4529 pIC50 units):\n",
      "      • Average prediction error: ±0.4529\n",
      "      • Stability: CV = 3.87% (excellent if <5%)\n",
      "\n",
      "   🔗 Pearson Correlation (0.7045):\n",
      "      • Strength: Strong\n",
      "      • Linear relationship quality: Good\n",
      "\n",
      "🏆 OVERALL MODEL ASSESSMENT:\n",
      "   ⚠️  ACCEPTABLE MODEL\n",
      "   Recommendation: Model shows reasonable performance but could be improved\n",
      "\n",
      "📈 STABILITY METRICS:\n",
      "   • R² stability: Excellent\n",
      "   • RMSE consistency: Excellent\n",
      "   • Overall robustness: High\n",
      "======================================================================\n"
     ]
    }
   ],
   "source": [
    "print(\"\\n\" + \"=\"*70)\n",
    "print(\"           DETAILED CROSS-VALIDATION ANALYSIS\")\n",
    "print(\"=\"*70)\n",
    "\n",
    "print(f\"\\n🎯 PERFORMANCE ANALYSIS:\")\n",
    "print(f\"   Based on your cross-validation results:\")\n",
    "\n",
    "# R² Analysis\n",
    "r2_mean = cv_r2_scores.mean()\n",
    "if r2_mean >= 0.7:\n",
    "    r2_quality = \"Excellent\"\n",
    "elif r2_mean >= 0.5:\n",
    "    r2_quality = \"Good\"\n",
    "elif r2_mean >= 0.3:\n",
    "    r2_quality = \"Moderate\"\n",
    "else:\n",
    "    r2_quality = \"Poor\"\n",
    "\n",
    "print(f\"\\n   📊 R² Score ({r2_mean:.4f}):\")\n",
    "print(f\"      • Quality: {r2_quality}\")\n",
    "print(f\"      • Variance explained: {r2_mean*100:.1f}%\")\n",
    "print(f\"      • Range across folds: {cv_r2_scores.min():.4f} - {cv_r2_scores.max():.4f}\")\n",
    "\n",
    "# RMSE Analysis\n",
    "rmse_mean = cv_rmse_scores.mean()\n",
    "print(f\"\\n   📏 RMSE ({rmse_mean:.4f} pIC50 units):\")\n",
    "print(f\"      • Average prediction error: ±{rmse_mean:.4f}\")\n",
    "print(f\"      • Stability: CV = {(cv_rmse_scores.std()/rmse_mean*100):.2f}% (excellent if <5%)\")\n",
    "\n",
    "# Pearson Correlation Analysis\n",
    "pearson_mean = cv_pearson_scores.mean()\n",
    "if pearson_mean >= 0.8:\n",
    "    corr_strength = \"Very Strong\"\n",
    "elif pearson_mean >= 0.6:\n",
    "    corr_strength = \"Strong\"\n",
    "elif pearson_mean >= 0.4:\n",
    "    corr_strength = \"Moderate\"\n",
    "else:\n",
    "    corr_strength = \"Weak\"\n",
    "\n",
    "print(f\"\\n   🔗 Pearson Correlation ({pearson_mean:.4f}):\")\n",
    "print(f\"      • Strength: {corr_strength}\")\n",
    "print(f\"      • Linear relationship quality: Good\" if pearson_mean > 0.7 else \"Acceptable\" if pearson_mean > 0.5 else \"Needs improvement\")\n",
    "\n",
    "# Overall Assessment\n",
    "print(f\"\\n🏆 OVERALL MODEL ASSESSMENT:\")\n",
    "if r2_mean > 0.5 and pearson_mean > 0.7 and (cv_r2_scores.std()/r2_mean*100) < 15:\n",
    "    assessment = \"✅ GOOD MODEL\"\n",
    "    recommendation = \"Model shows good predictive performance and stability\"\n",
    "elif r2_mean > 0.3 and pearson_mean > 0.5:\n",
    "    assessment = \"⚠️  ACCEPTABLE MODEL\"\n",
    "    recommendation = \"Model shows reasonable performance but could be improved\"\n",
    "else:\n",
    "    assessment = \"❌ NEEDS IMPROVEMENT\"\n",
    "    recommendation = \"Consider feature engineering, hyperparameter tuning, or different algorithms\"\n",
    "\n",
    "print(f\"   {assessment}\")\n",
    "print(f\"   Recommendation: {recommendation}\")\n",
    "\n",
    "print(f\"\\n📈 STABILITY METRICS:\")\n",
    "print(f\"   • R² stability: {'Excellent' if (cv_r2_scores.std()/r2_mean*100) < 10 else 'Good' if (cv_r2_scores.std()/r2_mean*100) < 20 else 'Poor'}\")\n",
    "print(f\"   • RMSE consistency: {'Excellent' if (cv_rmse_scores.std()/rmse_mean*100) < 5 else 'Good' if (cv_rmse_scores.std()/rmse_mean*100) < 10 else 'Poor'}\")\n",
    "print(f\"   • Overall robustness: {'High' if max(cv_r2_scores) - min(cv_r2_scores) < 0.15 else 'Medium' if max(cv_r2_scores) - min(cv_r2_scores) < 0.25 else 'Low'}\")\n",
    "\n",
    "print(\"=\"*70)"
   ]
  }
 ],
 "metadata": {
  "kernelspec": {
   "display_name": "reinvent.v3",
   "language": "python",
   "name": "python3"
  },
  "language_info": {
   "codemirror_mode": {
    "name": "ipython",
    "version": 3
   },
   "file_extension": ".py",
   "mimetype": "text/x-python",
   "name": "python",
   "nbconvert_exporter": "python",
   "pygments_lexer": "ipython3",
   "version": "3.7.7"
  }
 },
 "nbformat": 4,
 "nbformat_minor": 5
}
