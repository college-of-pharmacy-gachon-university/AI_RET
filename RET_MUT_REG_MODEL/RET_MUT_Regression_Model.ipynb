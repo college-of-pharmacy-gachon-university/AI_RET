{
 "cells": [
  {
   "cell_type": "code",
   "execution_count": 1,
   "id": "bd92ffbc",
   "metadata": {},
   "outputs": [],
   "source": [
    "import os\n",
    "import numpy as np\n",
    "import random as python_random\n",
    "SEED=56789\n",
    "np.random.seed(SEED)\n",
    "python_random.seed(SEED)\n",
    "os.environ['PYTHONHASHSEED']=str(SEED)\n",
    "\n",
    "import warnings\n",
    "warnings.filterwarnings(\"ignore\")\n",
    "warnings.simplefilter(action='ignore', category=FutureWarning)\n",
    "\n",
    "import pandas as pd\n",
    "import pickle\n",
    "from rdkit import Chem, DataStructs\n",
    "from rdkit.Chem import AllChem, MACCSkeys\n",
    "from rdkit.Avalon import pyAvalonTools\n",
    "\n",
    "from sklearn.ensemble import RandomForestRegressor\n",
    "from sklearn.metrics import r2_score, mean_squared_error, mean_absolute_error\n",
    "from scipy.stats import pearsonr\n",
    "from math import sqrt\n",
    "\n",
    "import matplotlib.pyplot as plt\n",
    "\n",
    "%matplotlib inline"
   ]
  },
  {
   "cell_type": "code",
   "execution_count": 2,
   "id": "aa5fedae",
   "metadata": {},
   "outputs": [
    {
     "name": "stdout",
     "output_type": "stream",
     "text": [
      "Python version: 3.7.7 (default, Mar 26 2020, 15:48:22) \n",
      "[GCC 7.3.0]\n",
      "==================================================\n",
      "NumPy version: 1.18.1\n",
      "Pandas version: 1.0.3\n",
      "Matplotlib version: 3.1.3\n",
      "Scikit-learn version: 0.21.3\n",
      "SciPy version: 1.4.1\n",
      "RDKit version: 2020.03.3\n",
      "==================================================\n",
      "Operating System: posix\n",
      "System: Linux 5.15.0-139-generic\n",
      "Machine: x86_64\n",
      "Random seed used: 56789\n",
      "==================================================\n"
     ]
    }
   ],
   "source": [
    "# Versions of all libraries used\n",
    "import sys\n",
    "print(\"Python version:\", sys.version)\n",
    "print(\"=\"*50)\n",
    "\n",
    "# Core libraries\n",
    "print(f\"NumPy version: {np.__version__}\")\n",
    "print(f\"Pandas version: {pd.__version__}\")\n",
    "print(f\"Matplotlib version: {plt.matplotlib.__version__}\")\n",
    "\n",
    "# Machine learning libraries\n",
    "import sklearn\n",
    "print(f\"Scikit-learn version: {sklearn.__version__}\")\n",
    "import scipy\n",
    "print(f\"SciPy version: {scipy.__version__}\")\n",
    "\n",
    "# Cheminformatics\n",
    "try:\n",
    "    import rdkit\n",
    "    print(f\"RDKit version: {rdkit.__version__}\")\n",
    "except AttributeError:\n",
    "    # Some RDKit versions don't have __version__\n",
    "    from rdkit import rdBase\n",
    "    print(f\"RDKit version: {rdBase.rdkitVersion}\")\n",
    "\n",
    "# Environment information\n",
    "print(\"=\"*50)\n",
    "print(f\"Operating System: {os.name}\")\n",
    "if hasattr(os, 'uname'):\n",
    "    uname = os.uname()\n",
    "    print(f\"System: {uname.sysname} {uname.release}\")\n",
    "    print(f\"Machine: {uname.machine}\")\n",
    "\n",
    "print(f\"Random seed used: {SEED}\")\n",
    "print(\"=\"*50)"
   ]
  },
  {
   "cell_type": "code",
   "execution_count": 3,
   "id": "079e0231",
   "metadata": {},
   "outputs": [
    {
     "name": "stdout",
     "output_type": "stream",
     "text": [
      "Loaded train set: 696 samples\n",
      "Loaded test set: 174 samples\n",
      "Train target range: 5.000 - 8.046\n",
      "Test target range: 5.000 - 7.836\n"
     ]
    }
   ],
   "source": [
    "# Read the train and test sets\n",
    "train_df_loaded = pd.read_csv('RET_Mutant_train_set.csv')\n",
    "test_df_loaded = pd.read_csv('RET_Mutant_test_set.csv')\n",
    "\n",
    "# Extract SMILES and targets from the loaded dataframes\n",
    "X_train = train_df_loaded['RDKIT_SMILES']\n",
    "Y_train = train_df_loaded['pIC50']\n",
    "X_test = test_df_loaded['RDKIT_SMILES']\n",
    "Y_test = test_df_loaded['pIC50']\n",
    "\n",
    "print(f\"Loaded train set: {len(X_train)} samples\")\n",
    "print(f\"Loaded test set: {len(X_test)} samples\")\n",
    "print(f\"Train target range: {Y_train.min():.3f} - {Y_train.max():.3f}\")\n",
    "print(f\"Test target range: {Y_test.min():.3f} - {Y_test.max():.3f}\")"
   ]
  },
  {
   "cell_type": "code",
   "execution_count": 4,
   "id": "ecdf2b54",
   "metadata": {},
   "outputs": [],
   "source": [
    "def smiles_to_mols(query_smiles):\n",
    "    mols = [Chem.MolFromSmiles(smile) for smile in query_smiles]\n",
    "    valid = [0 if mol is None else 1 for mol in mols]\n",
    "    valid_idxs = [idx for idx, boolean in enumerate(valid) if boolean == 1]\n",
    "    valid_mols = [mols[idx] for idx in valid_idxs]\n",
    "    return valid_mols, valid_idxs\n",
    "\n",
    "class Descriptors:\n",
    "\n",
    "    def __init__(self, data):\n",
    "        self._data = data\n",
    "\n",
    "    def ECFP(self, radius, nBits):\n",
    "        fingerprints = []\n",
    "        mols, idx = smiles_to_mols(self._data)\n",
    "        fp_bits = [AllChem.GetMorganFingerprintAsBitVect(mol, radius, nBits) for mol in mols]\n",
    "        for fp in fp_bits:\n",
    "            fp_np = np.zeros((1, nBits), dtype=np.int32)\n",
    "            DataStructs.ConvertToNumpyArray(fp, fp_np)\n",
    "            fingerprints.append(fp_np)\n",
    "        return fingerprints, idx\n",
    "\n",
    "    def ECFP_counts(self, radius, useFeatures, useCounts=True):\n",
    "        mols, valid_idx = smiles_to_mols(self._data)\n",
    "        fps = [AllChem.GetMorganFingerprint(mol, radius, useCounts=useCounts, useFeatures=useFeatures) for mol in mols]\n",
    "        size = 2048\n",
    "        nfp = np.zeros((len(fps), size), np.int32)\n",
    "        for i, fp in enumerate(fps):\n",
    "            for idx, v in fp.GetNonzeroElements().items():\n",
    "                nidx = idx % size\n",
    "                nfp[i, nidx] += int(v)\n",
    "        return nfp, valid_idx\n",
    "\n",
    "    def Avalon(self, nBits):\n",
    "        mols, valid_idx = smiles_to_mols(self._data)\n",
    "        fingerprints = []\n",
    "        fps = [pyAvalonTools.GetAvalonFP(mol, nBits=nBits) for mol in mols]\n",
    "        for fp in fps:\n",
    "            fp_np = np.zeros((1, nBits), dtype=np.int32)\n",
    "            DataStructs.ConvertToNumpyArray(fp, fp_np)\n",
    "            fingerprints.append(fp_np)\n",
    "        return fingerprints, valid_idx\n",
    "\n",
    "    def MACCS_keys(self):\n",
    "        mols, valid_idx = smiles_to_mols(self._data)\n",
    "        fingerprints = []\n",
    "        fps = [MACCSkeys.GenMACCSKeys(mol) for mol in mols]\n",
    "        for fp in fps:\n",
    "            fp_np = np.zeros((1, ), dtype=np.int32)\n",
    "            DataStructs.ConvertToNumpyArray(fp, fp_np)\n",
    "            fingerprints.append(fp_np)\n",
    "        return fingerprints, valid_idx\n",
    "\n",
    "def get_ECFP6_counts(inp):\n",
    "    if not isinstance(inp, list):\n",
    "        inp = list(inp)\n",
    "    desc = Descriptors(inp)\n",
    "    fps, _ = desc.ECFP_counts(radius=3, useFeatures=True, useCounts=True)\n",
    "    return fps"
   ]
  },
  {
   "cell_type": "code",
   "execution_count": 5,
   "id": "6d24fc3b",
   "metadata": {},
   "outputs": [],
   "source": [
    "train_fps = get_ECFP6_counts(X_train)\n",
    "test_fps = get_ECFP6_counts(X_test)"
   ]
  },
  {
   "cell_type": "code",
   "execution_count": 6,
   "id": "6fc4b6dd",
   "metadata": {},
   "outputs": [],
   "source": [
    "models_RF_train = {\"RF\": RandomForestRegressor(bootstrap=True, criterion='mse', max_depth=28,\n",
    "                      max_features='auto', max_leaf_nodes=None,\n",
    "                      min_impurity_decrease=0.0, min_impurity_split=None,\n",
    "                      min_samples_leaf=1, min_samples_split=2,\n",
    "                      min_weight_fraction_leaf=0.0, n_estimators=270,\n",
    "                      n_jobs=None, oob_score=False, random_state=1234,\n",
    "                      verbose=0, warm_start=False)}"
   ]
  },
  {
   "cell_type": "code",
   "execution_count": 7,
   "id": "8953bbf5",
   "metadata": {},
   "outputs": [
    {
     "data": {
      "text/plain": [
       "RF_train_r2                        0.92933\n",
       "RF_rmse_train                     0.168868\n",
       "RF_mae_train                      0.128149\n",
       "RF_pcc_train     (0.9732395208969024, 0.0)\n",
       "dtype: object"
      ]
     },
     "execution_count": 7,
     "metadata": {},
     "output_type": "execute_result"
    }
   ],
   "source": [
    "# Calculate the Training statistics\n",
    "scores = {}\n",
    "for m in models_RF_train:\n",
    "    models_RF_train[m].fit(train_fps, Y_train)\n",
    "    scores[m + \"_train_r2\"] = models_RF_train[m].score(train_fps, Y_train)\n",
    "    Y_pred_train_rf = models_RF_train[m].predict(train_fps)\n",
    "    scores[m + \"_rmse_train\"] = sqrt(mean_squared_error(Y_train, Y_pred_train_rf))\n",
    "    scores[m + \"_mae_train\"] = mean_absolute_error(Y_train, Y_pred_train_rf)\n",
    "    scores[m + \"_pcc_train\"] = pearsonr(Y_train, Y_pred_train_rf)\n",
    "scores_RF_train = pd.Series(scores).T\n",
    "scores_RF_train"
   ]
  },
  {
   "cell_type": "code",
   "execution_count": 8,
   "id": "af6d843d",
   "metadata": {},
   "outputs": [
    {
     "data": {
      "text/plain": [
       "RF_test_r2                                         0.584431\n",
       "RF_rmse_test                                       0.397593\n",
       "RF_mae_test                                        0.293664\n",
       "RF_pcc_test     (0.7691952700354965, 2.776915926013935e-35)\n",
       "dtype: object"
      ]
     },
     "execution_count": 8,
     "metadata": {},
     "output_type": "execute_result"
    }
   ],
   "source": [
    "# Calculate statistics for test set based on RF model\n",
    "scores = {}\n",
    "for m in models_RF_train:\n",
    "    Y_pred_test_rf = models_RF_train[m].predict(test_fps)\n",
    "    scores[m + \"_test_r2\"] = r2_score(Y_test, Y_pred_test_rf)\n",
    "    scores[m + \"_rmse_test\"] = sqrt(mean_squared_error(Y_test, Y_pred_test_rf))\n",
    "    scores[m + \"_mae_test\"] = mean_absolute_error(Y_test, Y_pred_test_rf)\n",
    "    scores[m + \"_pcc_test\"] = pearsonr(Y_test, Y_pred_test_rf)\n",
    "scores_RF_test = pd.Series(scores).T\n",
    "scores_RF_test"
   ]
  },
  {
   "cell_type": "code",
   "execution_count": 9,
   "id": "19006b4d",
   "metadata": {},
   "outputs": [
    {
     "data": {
      "image/png": "[encoded data removed]",
      "text/plain": [
       "<Figure size 432x288 with 1 Axes>"
      ]
     },
     "metadata": {
      "needs_background": "light"
     },
     "output_type": "display_data"
    }
   ],
   "source": [
    "# Scatter plot for Random Forest Model\n",
    "plt.scatter(Y_train, Y_pred_train_rf)\n",
    "plt.scatter(Y_test, Y_pred_test_rf)\n",
    "plt.show()"
   ]
  },
  {
   "cell_type": "code",
   "execution_count": 10,
   "id": "25bbf93d",
   "metadata": {},
   "outputs": [
    {
     "name": "stdout",
     "output_type": "stream",
     "text": [
      "0.9320626723223974\n"
     ]
    }
   ],
   "source": [
    "# Calculate statistics for overall set based on RF model\n",
    "models_RF_final = RandomForestRegressor(bootstrap=True, criterion='mse', max_depth=28,\n",
    "                      max_features='auto', max_leaf_nodes=None,\n",
    "                      min_impurity_decrease=0.0, min_impurity_split=None,\n",
    "                      min_samples_leaf=1, min_samples_split=2,\n",
    "                      min_weight_fraction_leaf=0.0, n_estimators=270,\n",
    "                      n_jobs=None, oob_score=False, random_state=1234,\n",
    "                      verbose=0, warm_start=False)\n",
    "\n",
    "# fit to all data points\n",
    "complete_fps = np.concatenate((train_fps, test_fps), axis=0)\n",
    "complete_y = pd.concat((Y_train, Y_test))\n",
    "models_RF_final.fit(complete_fps, complete_y)\n",
    "y_pred_final = models_RF_final.predict(complete_fps)\n",
    "models_RF_final_r2 = r2_score(complete_y, y_pred_final)\n",
    "print(models_RF_final_r2)"
   ]
  },
  {
   "cell_type": "code",
   "execution_count": 11,
   "id": "6458b514",
   "metadata": {},
   "outputs": [],
   "source": [
    "# save the final model\n",
    "with open((\"RET_MUTANT_final_model_Hyper1.pkl\"), \"wb\") as f:\n",
    "    pickle.dump(models_RF_final, f)"
   ]
  }
 ],
 "metadata": {
  "kernelspec": {
   "display_name": "reinvent.v3",
   "language": "python",
   "name": "python3"
  },
  "language_info": {
   "codemirror_mode": {
    "name": "ipython",
    "version": 3
   },
   "file_extension": ".py",
   "mimetype": "text/x-python",
   "name": "python",
   "nbconvert_exporter": "python",
   "pygments_lexer": "ipython3",
   "version": "3.7.7"
  }
 },
 "nbformat": 4,
 "nbformat_minor": 5
}
