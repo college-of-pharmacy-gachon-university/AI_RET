{
 "cells": [
  {
   "cell_type": "code",
   "execution_count": 3,
   "id": "bd92ffbc",
   "metadata": {},
   "outputs": [],
   "source": [
    "import os\n",
    "import numpy as np\n",
    "import random as python_random\n",
    "SEED=56789\n",
    "np.random.seed(SEED)\n",
    "python_random.seed(SEED)\n",
    "os.environ['PYTHONHASHSEED']=str(SEED)\n",
    "\n",
    "import warnings\n",
    "warnings.filterwarnings(\"ignore\")\n",
    "warnings.simplefilter(action='ignore', category=FutureWarning)\n",
    "\n",
    "import os\n",
    "import pandas as pd\n",
    "import numpy as np\n",
    "import random\n",
    "import pickle\n",
    "import optuna\n",
    "from rdkit import Chem, DataStructs\n",
    "from rdkit.Chem import AllChem, MACCSkeys, PandasTools\n",
    "from rdkit.Avalon import pyAvalonTools\n",
    "from rdkit.Chem.Draw import IPythonConsole\n",
    "from IPython.core.display import display, HTML\n",
    "\n",
    "#import libraries\n",
    "import sklearn.ensemble\n",
    "from sklearn.ensemble import RandomForestRegressor\n",
    "from sklearn.model_selection import train_test_split\n",
    "from sklearn.metrics import r2_score\n",
    "from sklearn.metrics import mean_squared_error\n",
    "from sklearn.metrics import mean_absolute_error\n",
    "from sklearn import model_selection\n",
    "from scipy.stats import spearmanr\n",
    "from scipy.stats import pearsonr\n",
    "import math\n",
    "from math import sqrt\n",
    "import pandas as pd\n",
    "import numpy as np\n",
    "from sklearn.model_selection import KFold, cross_val_score\n",
    "\n",
    "from shutil import copyfile\n",
    "\n",
    "import matplotlib.pyplot as plt\n",
    "import seaborn as sns\n",
    "\n",
    "%matplotlib inline"
   ]
  },
  {
   "cell_type": "code",
   "execution_count": 4,
   "id": "a9ce0af6",
   "metadata": {},
   "outputs": [
    {
     "data": {
      "text/html": [
       "<div>\n",
       "<style scoped>\n",
       "    .dataframe tbody tr th:only-of-type {\n",
       "        vertical-align: middle;\n",
       "    }\n",
       "\n",
       "    .dataframe tbody tr th {\n",
       "        vertical-align: top;\n",
       "    }\n",
       "\n",
       "    .dataframe thead th {\n",
       "        text-align: right;\n",
       "    }\n",
       "</style>\n",
       "<table border=\"1\" class=\"dataframe\">\n",
       "  <thead>\n",
       "    <tr style=\"text-align: right;\">\n",
       "      <th></th>\n",
       "      <th>SET_ID</th>\n",
       "      <th>pIC50</th>\n",
       "      <th>RDKIT_SMILES</th>\n",
       "      <th>trainingset_class</th>\n",
       "      <th>activity_label</th>\n",
       "    </tr>\n",
       "  </thead>\n",
       "  <tbody>\n",
       "    <tr>\n",
       "      <th>0</th>\n",
       "      <td>305117</td>\n",
       "      <td>7.507240</td>\n",
       "      <td>Cc1ccc(F)c(C(O)=NC2(C)CCN(c3ccc(-c4cc(OCC(C)(C...</td>\n",
       "      <td>test</td>\n",
       "      <td>1</td>\n",
       "    </tr>\n",
       "    <tr>\n",
       "      <th>1</th>\n",
       "      <td>305723</td>\n",
       "      <td>5.881074</td>\n",
       "      <td>COc1ccc(CC2(O)CCN(c3ccc(-c4cc(OCC(C)(C)O)cn5nc...</td>\n",
       "      <td>training</td>\n",
       "      <td>0</td>\n",
       "    </tr>\n",
       "    <tr>\n",
       "      <th>2</th>\n",
       "      <td>305098</td>\n",
       "      <td>6.970616</td>\n",
       "      <td>CC(C)(C)CC(O)=NC1(C)CCN(c2ccc(-c3cc(OCC(C)(C)O...</td>\n",
       "      <td>test</td>\n",
       "      <td>1</td>\n",
       "    </tr>\n",
       "    <tr>\n",
       "      <th>3</th>\n",
       "      <td>305083</td>\n",
       "      <td>6.995679</td>\n",
       "      <td>CC(C)(O)COc1cc(-c2ccc(N3CCC(C)(N=C(O)c4nc(O)cc...</td>\n",
       "      <td>test</td>\n",
       "      <td>1</td>\n",
       "    </tr>\n",
       "    <tr>\n",
       "      <th>4</th>\n",
       "      <td>296799</td>\n",
       "      <td>5.978397</td>\n",
       "      <td>CC(C)C(=O)N1CCC12CCN(c1ccc(-c3cc(OCCN4CCOCC4)c...</td>\n",
       "      <td>training</td>\n",
       "      <td>0</td>\n",
       "    </tr>\n",
       "    <tr>\n",
       "      <th>...</th>\n",
       "      <td>...</td>\n",
       "      <td>...</td>\n",
       "      <td>...</td>\n",
       "      <td>...</td>\n",
       "      <td>...</td>\n",
       "    </tr>\n",
       "    <tr>\n",
       "      <th>865</th>\n",
       "      <td>305149</td>\n",
       "      <td>7.221126</td>\n",
       "      <td>Cc1ccc(OC2CN(c3ccc(-c4cc(OCC(C)(C)O)cn5ncc(C#N...</td>\n",
       "      <td>test</td>\n",
       "      <td>1</td>\n",
       "    </tr>\n",
       "    <tr>\n",
       "      <th>866</th>\n",
       "      <td>305590</td>\n",
       "      <td>6.882729</td>\n",
       "      <td>CCOc1cc(-c2ccc(N3CCC(CN4CCN(C)C(C)C4)(N=C(O)Oc...</td>\n",
       "      <td>test</td>\n",
       "      <td>1</td>\n",
       "    </tr>\n",
       "    <tr>\n",
       "      <th>867</th>\n",
       "      <td>305241</td>\n",
       "      <td>7.052076</td>\n",
       "      <td>COc1ncc(OC2CCN(c3ccc(-c4cc(OCC(C)(C)O)cn5ncc(C...</td>\n",
       "      <td>test</td>\n",
       "      <td>1</td>\n",
       "    </tr>\n",
       "    <tr>\n",
       "      <th>868</th>\n",
       "      <td>305120</td>\n",
       "      <td>6.707744</td>\n",
       "      <td>Cc1ccnc(C(=O)NC2(C)CCN(c3ccc(-c4cc(OCC(C)(C)O)...</td>\n",
       "      <td>test</td>\n",
       "      <td>1</td>\n",
       "    </tr>\n",
       "    <tr>\n",
       "      <th>869</th>\n",
       "      <td>305275</td>\n",
       "      <td>6.047692</td>\n",
       "      <td>CC(C)C(O)=NC1CCN(c2ccc(-c3cc(OCC(C)(C)O)cn4ncc...</td>\n",
       "      <td>test</td>\n",
       "      <td>1</td>\n",
       "    </tr>\n",
       "  </tbody>\n",
       "</table>\n",
       "<p>870 rows × 5 columns</p>\n",
       "</div>"
      ],
      "text/plain": [
       "     SET_ID     pIC50                                       RDKIT_SMILES  \\\n",
       "0    305117  7.507240  Cc1ccc(F)c(C(O)=NC2(C)CCN(c3ccc(-c4cc(OCC(C)(C...   \n",
       "1    305723  5.881074  COc1ccc(CC2(O)CCN(c3ccc(-c4cc(OCC(C)(C)O)cn5nc...   \n",
       "2    305098  6.970616  CC(C)(C)CC(O)=NC1(C)CCN(c2ccc(-c3cc(OCC(C)(C)O...   \n",
       "3    305083  6.995679  CC(C)(O)COc1cc(-c2ccc(N3CCC(C)(N=C(O)c4nc(O)cc...   \n",
       "4    296799  5.978397  CC(C)C(=O)N1CCC12CCN(c1ccc(-c3cc(OCCN4CCOCC4)c...   \n",
       "..      ...       ...                                                ...   \n",
       "865  305149  7.221126  Cc1ccc(OC2CN(c3ccc(-c4cc(OCC(C)(C)O)cn5ncc(C#N...   \n",
       "866  305590  6.882729  CCOc1cc(-c2ccc(N3CCC(CN4CCN(C)C(C)C4)(N=C(O)Oc...   \n",
       "867  305241  7.052076  COc1ncc(OC2CCN(c3ccc(-c4cc(OCC(C)(C)O)cn5ncc(C...   \n",
       "868  305120  6.707744  Cc1ccnc(C(=O)NC2(C)CCN(c3ccc(-c4cc(OCC(C)(C)O)...   \n",
       "869  305275  6.047692  CC(C)C(O)=NC1CCN(c2ccc(-c3cc(OCC(C)(C)O)cn4ncc...   \n",
       "\n",
       "    trainingset_class  activity_label  \n",
       "0                test               1  \n",
       "1            training               0  \n",
       "2                test               1  \n",
       "3                test               1  \n",
       "4            training               0  \n",
       "..                ...             ...  \n",
       "865              test               1  \n",
       "866              test               1  \n",
       "867              test               1  \n",
       "868              test               1  \n",
       "869              test               1  \n",
       "\n",
       "[870 rows x 5 columns]"
      ]
     },
     "execution_count": 4,
     "metadata": {},
     "output_type": "execute_result"
    }
   ],
   "source": [
    "df = pd.read_csv(\"RET_Mutant_SELECTED_TR_TS_threshold_6.0.csv\")\n",
    "df"
   ]
  },
  {
   "cell_type": "code",
   "execution_count": 5,
   "id": "961884c1",
   "metadata": {},
   "outputs": [],
   "source": [
    "X_train, X_test, Y_train, Y_test = train_test_split(df['RDKIT_SMILES'], df['pIC50'], test_size=0.2, \\\n",
    "                                                    random_state=42) "
   ]
  },
  {
   "cell_type": "code",
   "execution_count": 6,
   "id": "9bbca513",
   "metadata": {},
   "outputs": [
    {
     "data": {
      "text/plain": [
       "(696, 174)"
      ]
     },
     "execution_count": 6,
     "metadata": {},
     "output_type": "execute_result"
    }
   ],
   "source": [
    "len(X_train), len(X_test)"
   ]
  },
  {
   "cell_type": "code",
   "execution_count": 7,
   "id": "ecdf2b54",
   "metadata": {},
   "outputs": [],
   "source": [
    "def smiles_to_mols(query_smiles):\n",
    "    mols = [Chem.MolFromSmiles(smile) for smile in query_smiles]\n",
    "    valid = [0 if mol is None else 1 for mol in mols]\n",
    "    valid_idxs = [idx for idx, boolean in enumerate(valid) if boolean == 1]\n",
    "    valid_mols = [mols[idx] for idx in valid_idxs]\n",
    "    return valid_mols, valid_idxs\n",
    "\n",
    "class Descriptors:\n",
    "\n",
    "    def __init__(self, data):\n",
    "        self._data = data\n",
    "\n",
    "    def ECFP(self, radius, nBits):\n",
    "        fingerprints = []\n",
    "        mols, idx = smiles_to_mols(self._data)\n",
    "        fp_bits = [AllChem.GetMorganFingerprintAsBitVect(mol, radius, nBits) for mol in mols]\n",
    "        for fp in fp_bits:\n",
    "            fp_np = np.zeros((1, nBits), dtype=np.int32)\n",
    "            DataStructs.ConvertToNumpyArray(fp, fp_np)\n",
    "            fingerprints.append(fp_np)\n",
    "        return fingerprints, idx\n",
    "\n",
    "    def ECFP_counts(self, radius, useFeatures, useCounts=True):\n",
    "        mols, valid_idx = smiles_to_mols(self._data)\n",
    "        fps = [AllChem.GetMorganFingerprint(mol, radius, useCounts=useCounts, useFeatures=useFeatures) for mol in mols]\n",
    "        size = 2048\n",
    "        nfp = np.zeros((len(fps), size), np.int32)\n",
    "        for i, fp in enumerate(fps):\n",
    "            for idx, v in fp.GetNonzeroElements().items():\n",
    "                nidx = idx % size\n",
    "                nfp[i, nidx] += int(v)\n",
    "        return nfp, valid_idx\n",
    "\n",
    "    def Avalon(self, nBits):\n",
    "        mols, valid_idx = smiles_to_mols(self._data)\n",
    "        fingerprints = []\n",
    "        fps = [pyAvalonTools.GetAvalonFP(mol, nBits=nBits) for mol in mols]\n",
    "        for fp in fps:\n",
    "            fp_np = np.zeros((1, nBits), dtype=np.int32)\n",
    "            DataStructs.ConvertToNumpyArray(fp, fp_np)\n",
    "            fingerprints.append(fp_np)\n",
    "        return fingerprints, valid_idx\n",
    "\n",
    "    def MACCS_keys(self):\n",
    "        mols, valid_idx = smiles_to_mols(self._data)\n",
    "        fingerprints = []\n",
    "        fps = [MACCSkeys.GenMACCSKeys(mol) for mol in mols]\n",
    "        for fp in fps:\n",
    "            fp_np = np.zeros((1, ), dtype=np.int32)\n",
    "            DataStructs.ConvertToNumpyArray(fp, fp_np)\n",
    "            fingerprints.append(fp_np)\n",
    "        return fingerprints, valid_idx\n",
    "\n",
    "def get_ECFP6_counts(inp):\n",
    "    if not isinstance(inp, list):\n",
    "        inp = list(inp)\n",
    "    desc = Descriptors(inp)\n",
    "    fps, _ = desc.ECFP_counts(radius=3, useFeatures=True, useCounts=True)\n",
    "    return fps"
   ]
  },
  {
   "cell_type": "code",
   "execution_count": 8,
   "id": "6d24fc3b",
   "metadata": {},
   "outputs": [],
   "source": [
    "train_fps = get_ECFP6_counts(X_train)\n",
    "test_fps = get_ECFP6_counts(X_test)"
   ]
  },
  {
   "cell_type": "code",
   "execution_count": 9,
   "id": "6fc4b6dd",
   "metadata": {},
   "outputs": [],
   "source": [
    "models_RF_train = {\"RF\": RandomForestRegressor(bootstrap=True, criterion='mse', max_depth=28,\n",
    "                      max_features='auto', max_leaf_nodes=None,\n",
    "                      min_impurity_decrease=0.0, min_impurity_split=None,\n",
    "                      min_samples_leaf=1, min_samples_split=2,\n",
    "                      min_weight_fraction_leaf=0.0, n_estimators=270,\n",
    "                      n_jobs=None, oob_score=False, random_state=1234,\n",
    "                      verbose=0, warm_start=False)}"
   ]
  },
  {
   "cell_type": "code",
   "execution_count": 10,
   "id": "8953bbf5",
   "metadata": {},
   "outputs": [
    {
     "data": {
      "text/plain": [
       "RF_train_r2                        0.92931\n",
       "RF_rmse_train                     0.168892\n",
       "RF_mae_train                      0.128043\n",
       "RF_pcc_train     (0.9732687750943457, 0.0)\n",
       "dtype: object"
      ]
     },
     "execution_count": 10,
     "metadata": {},
     "output_type": "execute_result"
    }
   ],
   "source": [
    "# Calculate the Training and Validation (Refined set) statistics\n",
    "scores = {}\n",
    "for m in models_RF_train:\n",
    "    models_RF_train[m].fit(train_fps, Y_train)\n",
    "    scores[m + \"_train_r2\"] = models_RF_train[m].score(train_fps, Y_train)\n",
    "    Y_pred_train_rf = models_RF_train[m].predict(train_fps)\n",
    "    scores[m + \"_rmse_train\"] = sqrt(mean_squared_error(Y_train, Y_pred_train_rf))\n",
    "    scores[m + \"_mae_train\"] = mean_absolute_error(Y_train, Y_pred_train_rf)\n",
    "    scores[m + \"_pcc_train\"] = pearsonr(Y_train, Y_pred_train_rf)\n",
    "scores_RF_train = pd.Series(scores).T\n",
    "scores_RF_train"
   ]
  },
  {
   "cell_type": "code",
   "execution_count": 11,
   "id": "af6d843d",
   "metadata": {},
   "outputs": [
    {
     "data": {
      "text/plain": [
       "RF_test_r2                                         0.583048\n",
       "RF_rmse_test                                       0.398254\n",
       "RF_mae_test                                        0.293932\n",
       "RF_pcc_test     (0.7682645808385009, 3.756029098360361e-35)\n",
       "dtype: object"
      ]
     },
     "execution_count": 11,
     "metadata": {},
     "output_type": "execute_result"
    }
   ],
   "source": [
    "# Calculate statistics for test set (Core set) based on RF model\n",
    "scores = {}\n",
    "for m in models_RF_train:\n",
    "    Y_pred_test_rf = models_RF_train[m].predict(test_fps)\n",
    "    scores[m + \"_test_r2\"] = r2_score(Y_test, Y_pred_test_rf)\n",
    "    scores[m + \"_rmse_test\"] = sqrt(mean_squared_error(Y_test, Y_pred_test_rf))\n",
    "    scores[m + \"_mae_test\"] = mean_absolute_error(Y_test, Y_pred_test_rf)\n",
    "    scores[m + \"_pcc_test\"] = pearsonr(Y_test, Y_pred_test_rf)\n",
    "scores_RF_test = pd.Series(scores).T\n",
    "scores_RF_test"
   ]
  },
  {
   "cell_type": "code",
   "execution_count": 12,
   "id": "19006b4d",
   "metadata": {},
   "outputs": [
    {
     "data": {
      "image/png": "[encoded data removed]",
      "text/plain": [
       "<Figure size 432x288 with 1 Axes>"
      ]
     },
     "metadata": {
      "needs_background": "light"
     },
     "output_type": "display_data"
    }
   ],
   "source": [
    "# Scatter plot for Random Forest Model\n",
    "plt.scatter(Y_train, Y_pred_train_rf)\n",
    "plt.scatter(Y_test, Y_pred_test_rf)\n",
    "plt.show()"
   ]
  },
  {
   "cell_type": "code",
   "execution_count": 13,
   "id": "25bbf93d",
   "metadata": {},
   "outputs": [
    {
     "name": "stdout",
     "output_type": "stream",
     "text": [
      "0.9320460555879043\n"
     ]
    }
   ],
   "source": [
    "models_RF_final = RandomForestRegressor(bootstrap=True, criterion='mse', max_depth=28,\n",
    "                      max_features='auto', max_leaf_nodes=None,\n",
    "                      min_impurity_decrease=0.0, min_impurity_split=None,\n",
    "                      min_samples_leaf=1, min_samples_split=2,\n",
    "                      min_weight_fraction_leaf=0.0, n_estimators=270,\n",
    "                      n_jobs=None, oob_score=False, random_state=1234,\n",
    "                      verbose=0, warm_start=False)\n",
    "\n",
    "# fit to all data points\n",
    "complete_fps = np.concatenate((train_fps, test_fps), axis=0)\n",
    "complete_y = pd.concat((Y_train, Y_test))\n",
    "models_RF_final.fit(complete_fps, complete_y)\n",
    "y_pred_final = models_RF_final.predict(complete_fps)\n",
    "models_RF_final_r2 = r2_score(complete_y, y_pred_final)\n",
    "print(models_RF_final_r2)"
   ]
  },
  {
   "cell_type": "code",
   "execution_count": 14,
   "id": "6458b514",
   "metadata": {},
   "outputs": [],
   "source": [
    "# save the model\n",
    "with open((\"RET_MUTANT_final_model_Hyper.pkl\"), \"wb\") as f:\n",
    "    pickle.dump(models_RF_final, f)"
   ]
  }
 ],
 "metadata": {
  "kernelspec": {
   "display_name": "Python 3",
   "language": "python",
   "name": "python3"
  },
  "language_info": {
   "codemirror_mode": {
    "name": "ipython",
    "version": 3
   },
   "file_extension": ".py",
   "mimetype": "text/x-python",
   "name": "python",
   "nbconvert_exporter": "python",
   "pygments_lexer": "ipython3",
   "version": "3.7.13"
  }
 },
 "nbformat": 4,
 "nbformat_minor": 5
}
